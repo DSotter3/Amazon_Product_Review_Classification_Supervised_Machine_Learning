{
 "cells": [
  {
   "cell_type": "markdown",
   "id": "32f37a13",
   "metadata": {},
   "source": [
    "### Realistic use case for data with at least three classes\n",
    "- Sentiment analysis for product feedback\n",
    "- Recommendation systems for customers\n",
    "- Fake review detection and classification"
   ]
  },
  {
   "cell_type": "code",
   "execution_count": 1,
   "id": "a7ae5711",
   "metadata": {},
   "outputs": [],
   "source": [
    "import pandas as pd\n",
    "import seaborn as sns\n",
    "import matplotlib.pyplot as plt\n",
    "from sklearn.model_selection import train_test_split\n",
    "from sklearn.model_selection import StratifiedShuffleSplit\n",
    "from sklearn.tree import DecisionTreeClassifier\n",
    "from sklearn.metrics import classification_report, confusion_matrix\n",
    "from sklearn.svm import SVC\n",
    "from sklearn.metrics import accuracy_score\n",
    "from sklearn.model_selection import GridSearchCV\n",
    "from sklearn.model_selection import RandomizedSearchCV\n",
    "import utils"
   ]
  },
  {
   "cell_type": "markdown",
   "id": "122c9410",
   "metadata": {},
   "source": [
    "## Data Processing"
   ]
  },
  {
   "cell_type": "code",
   "execution_count": 2,
   "id": "46cdd4ed",
   "metadata": {},
   "outputs": [],
   "source": [
    "file_path = 'Amazon-Product-Reviews.csv'"
   ]
  },
  {
   "cell_type": "code",
   "execution_count": 3,
   "id": "160cf529",
   "metadata": {},
   "outputs": [],
   "source": [
    "# Load the dataset\n",
    "df = pd.read_csv(file_path)"
   ]
  },
  {
   "cell_type": "code",
   "execution_count": 4,
   "id": "8594d1e0",
   "metadata": {},
   "outputs": [
    {
     "name": "stdout",
     "output_type": "stream",
     "text": [
      "<class 'pandas.core.frame.DataFrame'>\n",
      "RangeIndex: 30846 entries, 0 to 30845\n",
      "Data columns (total 11 columns):\n",
      " #   Column             Non-Null Count  Dtype \n",
      "---  ------             --------------  ----- \n",
      " 0   customer_id        30846 non-null  int64 \n",
      " 1   review_id          30846 non-null  object\n",
      " 2   product_parent     30846 non-null  int64 \n",
      " 3   product_title      30846 non-null  object\n",
      " 4   star_rating        30846 non-null  int64 \n",
      " 5   total_votes        30846 non-null  int64 \n",
      " 6   verified_purchase  30846 non-null  object\n",
      " 7   review_headline    30846 non-null  object\n",
      " 8   review_body        30846 non-null  object\n",
      " 9   review_date        30846 non-null  object\n",
      " 10  sentiment          30846 non-null  int64 \n",
      "dtypes: int64(5), object(6)\n",
      "memory usage: 2.6+ MB\n"
     ]
    }
   ],
   "source": [
    "# Load basic info of the dataset\n",
    "df.info()"
   ]
  },
  {
   "cell_type": "code",
   "execution_count": 5,
   "id": "a80b9291",
   "metadata": {},
   "outputs": [
    {
     "data": {
      "text/html": [
       "<div>\n",
       "<style scoped>\n",
       "    .dataframe tbody tr th:only-of-type {\n",
       "        vertical-align: middle;\n",
       "    }\n",
       "\n",
       "    .dataframe tbody tr th {\n",
       "        vertical-align: top;\n",
       "    }\n",
       "\n",
       "    .dataframe thead th {\n",
       "        text-align: right;\n",
       "    }\n",
       "</style>\n",
       "<table border=\"1\" class=\"dataframe\">\n",
       "  <thead>\n",
       "    <tr style=\"text-align: right;\">\n",
       "      <th></th>\n",
       "      <th>customer_id</th>\n",
       "      <th>review_id</th>\n",
       "      <th>product_parent</th>\n",
       "      <th>product_title</th>\n",
       "      <th>star_rating</th>\n",
       "      <th>total_votes</th>\n",
       "      <th>verified_purchase</th>\n",
       "      <th>review_headline</th>\n",
       "      <th>review_body</th>\n",
       "      <th>review_date</th>\n",
       "      <th>sentiment</th>\n",
       "    </tr>\n",
       "  </thead>\n",
       "  <tbody>\n",
       "    <tr>\n",
       "      <th>0</th>\n",
       "      <td>11555559</td>\n",
       "      <td>R1QXC7AHHJBQ3O</td>\n",
       "      <td>2693241</td>\n",
       "      <td>Fire HD 7, 7\" HD Display, Wi-Fi, 8 GB</td>\n",
       "      <td>5</td>\n",
       "      <td>0</td>\n",
       "      <td>Y</td>\n",
       "      <td>Five Stars</td>\n",
       "      <td>Great love it</td>\n",
       "      <td>8/31/2015</td>\n",
       "      <td>1</td>\n",
       "    </tr>\n",
       "    <tr>\n",
       "      <th>1</th>\n",
       "      <td>31469372</td>\n",
       "      <td>R175VSRV6ZETOP</td>\n",
       "      <td>2693241</td>\n",
       "      <td>Fire HD 7, 7\" HD Display, Wi-Fi, 8 GB</td>\n",
       "      <td>3</td>\n",
       "      <td>0</td>\n",
       "      <td>N</td>\n",
       "      <td>Lots of ads Slow processing speed Occasionally...</td>\n",
       "      <td>Lots of ads&lt;br /&gt;Slow processing speed&lt;br /&gt;Oc...</td>\n",
       "      <td>8/31/2015</td>\n",
       "      <td>0</td>\n",
       "    </tr>\n",
       "    <tr>\n",
       "      <th>2</th>\n",
       "      <td>26843895</td>\n",
       "      <td>R2HRFF78MWGY19</td>\n",
       "      <td>2693241</td>\n",
       "      <td>Fire HD 7, 7\" HD Display, Wi-Fi, 8 GB</td>\n",
       "      <td>5</td>\n",
       "      <td>0</td>\n",
       "      <td>Y</td>\n",
       "      <td>Well thought out device</td>\n",
       "      <td>Excellent unit.  The versatility of this table...</td>\n",
       "      <td>8/31/2015</td>\n",
       "      <td>1</td>\n",
       "    </tr>\n",
       "    <tr>\n",
       "      <th>3</th>\n",
       "      <td>19844868</td>\n",
       "      <td>R8Q39WPKYVSTX</td>\n",
       "      <td>2693241</td>\n",
       "      <td>Fire HD 7, 7\" HD Display, Wi-Fi, 8 GB</td>\n",
       "      <td>4</td>\n",
       "      <td>0</td>\n",
       "      <td>N</td>\n",
       "      <td>Not all apps/games we were looking forward to ...</td>\n",
       "      <td>I bought this on Amazon Prime so I ended up bu...</td>\n",
       "      <td>8/31/2015</td>\n",
       "      <td>1</td>\n",
       "    </tr>\n",
       "    <tr>\n",
       "      <th>4</th>\n",
       "      <td>1189852</td>\n",
       "      <td>R3RL4C8YP2ZCJL</td>\n",
       "      <td>2693241</td>\n",
       "      <td>Fire HD 7, 7\" HD Display, Wi-Fi, 8 GB</td>\n",
       "      <td>5</td>\n",
       "      <td>0</td>\n",
       "      <td>Y</td>\n",
       "      <td>Five Stars</td>\n",
       "      <td>All Amazon products continue to meet my expect...</td>\n",
       "      <td>8/31/2015</td>\n",
       "      <td>1</td>\n",
       "    </tr>\n",
       "  </tbody>\n",
       "</table>\n",
       "</div>"
      ],
      "text/plain": [
       "   customer_id       review_id  product_parent  \\\n",
       "0     11555559  R1QXC7AHHJBQ3O         2693241   \n",
       "1     31469372  R175VSRV6ZETOP         2693241   \n",
       "2     26843895  R2HRFF78MWGY19         2693241   \n",
       "3     19844868   R8Q39WPKYVSTX         2693241   \n",
       "4      1189852  R3RL4C8YP2ZCJL         2693241   \n",
       "\n",
       "                           product_title  star_rating  total_votes  \\\n",
       "0  Fire HD 7, 7\" HD Display, Wi-Fi, 8 GB            5            0   \n",
       "1  Fire HD 7, 7\" HD Display, Wi-Fi, 8 GB            3            0   \n",
       "2  Fire HD 7, 7\" HD Display, Wi-Fi, 8 GB            5            0   \n",
       "3  Fire HD 7, 7\" HD Display, Wi-Fi, 8 GB            4            0   \n",
       "4  Fire HD 7, 7\" HD Display, Wi-Fi, 8 GB            5            0   \n",
       "\n",
       "  verified_purchase                                    review_headline  \\\n",
       "0                 Y                                         Five Stars   \n",
       "1                 N  Lots of ads Slow processing speed Occasionally...   \n",
       "2                 Y                            Well thought out device   \n",
       "3                 N  Not all apps/games we were looking forward to ...   \n",
       "4                 Y                                         Five Stars   \n",
       "\n",
       "                                         review_body review_date  sentiment  \n",
       "0                                      Great love it   8/31/2015          1  \n",
       "1  Lots of ads<br />Slow processing speed<br />Oc...   8/31/2015          0  \n",
       "2  Excellent unit.  The versatility of this table...   8/31/2015          1  \n",
       "3  I bought this on Amazon Prime so I ended up bu...   8/31/2015          1  \n",
       "4  All Amazon products continue to meet my expect...   8/31/2015          1  "
      ]
     },
     "execution_count": 5,
     "metadata": {},
     "output_type": "execute_result"
    }
   ],
   "source": [
    "# Display the first few rows of the dataset\n",
    "df.head()"
   ]
  },
  {
   "cell_type": "code",
   "execution_count": 6,
   "id": "ae466483",
   "metadata": {},
   "outputs": [
    {
     "data": {
      "text/plain": [
       "customer_id          0\n",
       "review_id            0\n",
       "product_parent       0\n",
       "product_title        0\n",
       "star_rating          0\n",
       "total_votes          0\n",
       "verified_purchase    0\n",
       "review_headline      0\n",
       "review_body          0\n",
       "review_date          0\n",
       "sentiment            0\n",
       "dtype: int64"
      ]
     },
     "execution_count": 6,
     "metadata": {},
     "output_type": "execute_result"
    }
   ],
   "source": [
    "# Check if  there is missing data in the dataset\n",
    "df.isnull().sum()"
   ]
  },
  {
   "cell_type": "markdown",
   "id": "ae448e3c",
   "metadata": {},
   "source": [
    "## Analyzing dataset features"
   ]
  },
  {
   "cell_type": "code",
   "execution_count": 7,
   "id": "0142997f",
   "metadata": {},
   "outputs": [],
   "source": [
    "# Convert Y/N value of verified_purchase into boolean value\n",
    "df['verified_purchase'] = df['verified_purchase'].apply(lambda x: 1 if x == 'Y' else 0)"
   ]
  },
  {
   "cell_type": "code",
   "execution_count": 8,
   "id": "2181d0ad",
   "metadata": {},
   "outputs": [],
   "source": [
    "# Get the length of reviews body and headline\n",
    "df['review_headline_length'] = df['review_headline'].apply(len)\n",
    "df['review_body_length'] = df['review_body'].apply(len)"
   ]
  },
  {
   "cell_type": "code",
   "execution_count": 9,
   "id": "44a05d18",
   "metadata": {},
   "outputs": [],
   "source": [
    "# Get the year of reviews\n",
    "df['review_year'] = pd.to_datetime(df['review_date']).dt.year"
   ]
  },
  {
   "cell_type": "code",
   "execution_count": 10,
   "id": "17fa2717",
   "metadata": {},
   "outputs": [
    {
     "data": {
      "text/html": [
       "<div>\n",
       "<style scoped>\n",
       "    .dataframe tbody tr th:only-of-type {\n",
       "        vertical-align: middle;\n",
       "    }\n",
       "\n",
       "    .dataframe tbody tr th {\n",
       "        vertical-align: top;\n",
       "    }\n",
       "\n",
       "    .dataframe thead th {\n",
       "        text-align: right;\n",
       "    }\n",
       "</style>\n",
       "<table border=\"1\" class=\"dataframe\">\n",
       "  <thead>\n",
       "    <tr style=\"text-align: right;\">\n",
       "      <th></th>\n",
       "      <th>verified_purchase</th>\n",
       "      <th>review_headline_length</th>\n",
       "      <th>review_body_length</th>\n",
       "      <th>review_year</th>\n",
       "    </tr>\n",
       "  </thead>\n",
       "  <tbody>\n",
       "    <tr>\n",
       "      <th>0</th>\n",
       "      <td>1</td>\n",
       "      <td>10</td>\n",
       "      <td>13</td>\n",
       "      <td>2015</td>\n",
       "    </tr>\n",
       "    <tr>\n",
       "      <th>1</th>\n",
       "      <td>0</td>\n",
       "      <td>66</td>\n",
       "      <td>171</td>\n",
       "      <td>2015</td>\n",
       "    </tr>\n",
       "    <tr>\n",
       "      <th>2</th>\n",
       "      <td>1</td>\n",
       "      <td>23</td>\n",
       "      <td>654</td>\n",
       "      <td>2015</td>\n",
       "    </tr>\n",
       "    <tr>\n",
       "      <th>3</th>\n",
       "      <td>0</td>\n",
       "      <td>121</td>\n",
       "      <td>1106</td>\n",
       "      <td>2015</td>\n",
       "    </tr>\n",
       "    <tr>\n",
       "      <th>4</th>\n",
       "      <td>1</td>\n",
       "      <td>10</td>\n",
       "      <td>52</td>\n",
       "      <td>2015</td>\n",
       "    </tr>\n",
       "  </tbody>\n",
       "</table>\n",
       "</div>"
      ],
      "text/plain": [
       "   verified_purchase  review_headline_length  review_body_length  review_year\n",
       "0                  1                      10                  13         2015\n",
       "1                  0                      66                 171         2015\n",
       "2                  1                      23                 654         2015\n",
       "3                  0                     121                1106         2015\n",
       "4                  1                      10                  52         2015"
      ]
     },
     "execution_count": 10,
     "metadata": {},
     "output_type": "execute_result"
    }
   ],
   "source": [
    "# Display the dataset after analysis and data type conversion\n",
    "df[['verified_purchase', 'review_headline_length', 'review_body_length', 'review_year']].head()"
   ]
  },
  {
   "cell_type": "markdown",
   "id": "5550ac9c",
   "metadata": {},
   "source": [
    "## Bar graph showing the count of each class"
   ]
  },
  {
   "cell_type": "code",
   "execution_count": 11,
   "id": "c8bc438e",
   "metadata": {},
   "outputs": [
    {
     "data": {
      "image/png": "[encoded data removed]",
      "text/plain": [
       "<Figure size 2000x500 with 1 Axes>"
      ]
     },
     "metadata": {},
     "output_type": "display_data"
    }
   ],
   "source": [
    "plt.figure(figsize=(20,5))\n",
    "ax1=sns.countplot(x=\"star_rating\", data=df)\n",
    "for p in ax1.patches:\n",
    "    ax1.annotate(str(p.get_height()), (p.get_x() * 1.01 , p.get_height() * 1.01))\n",
    "plt.show()"
   ]
  },
  {
   "cell_type": "code",
   "execution_count": 12,
   "id": "2539ba55",
   "metadata": {},
   "outputs": [
    {
     "data": {
      "image/png": "[encoded data removed]",
      "text/plain": [
       "<Figure size 800x500 with 1 Axes>"
      ]
     },
     "metadata": {},
     "output_type": "display_data"
    }
   ],
   "source": [
    "# Count verified_purchase frencuencies\n",
    "verified_purchase_counts = df['verified_purchase'].value_counts()\n",
    "# Create bar chart\n",
    "plt.figure(figsize=(8, 5))\n",
    "plt.bar(verified_purchase_counts.index.astype(str), verified_purchase_counts.values, color=['green', 'red'])\n",
    "# Set title and label for the bar chart\n",
    "plt.title('Count of Verified vs Non-Verified Purchases')\n",
    "plt.xlabel('Verified Purchase')\n",
    "plt.ylabel('Count')\n",
    "# Label for x-axis\n",
    "plt.xticks(ticks=[0, 1], labels=['Not Verified (0)', 'Verified (1)'])\n",
    "# Draw the bar chart\n",
    "plt.show()"
   ]
  },
  {
   "cell_type": "markdown",
   "id": "2e3f8014",
   "metadata": {},
   "source": [
    "## Split data into training(70%), testing data and validation data(30%)"
   ]
  },
  {
   "cell_type": "code",
   "execution_count": 13,
   "id": "f17e09d0",
   "metadata": {},
   "outputs": [
    {
     "name": "stdout",
     "output_type": "stream",
     "text": [
      "Before : 30846\n",
      "After  : 30846\n"
     ]
    }
   ],
   "source": [
    "print(\"Before : {}\".format(len(df)))\n",
    "dataAfter = df.dropna(subset=[\"star_rating\"])\n",
    "# Removes all NAN in reviews.rating\n",
    "print(\"After  : {}\".format(len(dataAfter)))\n",
    "dataAfter[\"reviews.rating\"] = dataAfter[\"star_rating\"].astype(int)\n",
    "\n",
    "split = StratifiedShuffleSplit(n_splits=10, test_size=0.2)\n",
    "for train_index, test_index in split.split(dataAfter,\n",
    "                                           dataAfter[\"star_rating\"]):\n",
    "    strat_train = dataAfter.reindex(train_index)\n",
    "    strat_test = dataAfter.reindex(test_index)"
   ]
  },
  {
   "cell_type": "code",
   "execution_count": 14,
   "id": "78a8c722",
   "metadata": {},
   "outputs": [
    {
     "name": "stdout",
     "output_type": "stream",
     "text": [
      "24676\n",
      "6170\n"
     ]
    },
    {
     "data": {
      "text/plain": [
       "5    64.89\n",
       "4    18.64\n",
       "3     7.18\n",
       "1     5.54\n",
       "2     3.74\n",
       "Name: star_rating, dtype: float64"
      ]
     },
     "execution_count": 14,
     "metadata": {},
     "output_type": "execute_result"
    }
   ],
   "source": [
    "# Check the size of and training and testing data\n",
    "print(len(strat_train))\n",
    "print(len(strat_test))\n",
    "round((strat_test[\"star_rating\"].value_counts()* 100/len(strat_test)),2)"
   ]
  },
  {
   "cell_type": "code",
   "execution_count": 15,
   "id": "f4f4f776",
   "metadata": {},
   "outputs": [],
   "source": [
    "# Define features and target\n",
    "X = df[['verified_purchase', 'review_headline_length', 'review_body_length', 'review_year']]\n",
    "y = df['star_rating']"
   ]
  },
  {
   "cell_type": "code",
   "execution_count": 16,
   "id": "068e26fc",
   "metadata": {},
   "outputs": [],
   "source": [
    "# Split data into 70% training and 30% testing and validation\n",
    "X_train, X_temp, y_train, y_temp = train_test_split(X, y, test_size=0.3, random_state=42)"
   ]
  },
  {
   "cell_type": "code",
   "execution_count": 17,
   "id": "931bb41e",
   "metadata": {},
   "outputs": [],
   "source": [
    "# Splitting 50/50 for the temp validation and testing\n",
    "X_val, X_test, y_val, y_test = train_test_split(X_temp, y_temp, test_size=0.5, random_state=42)"
   ]
  },
  {
   "cell_type": "markdown",
   "id": "8972ae8e",
   "metadata": {},
   "source": [
    "### Data Analysis"
   ]
  },
  {
   "cell_type": "code",
   "execution_count": 18,
   "id": "9a4aa35f",
   "metadata": {},
   "outputs": [],
   "source": [
    "reviews = strat_train.copy()"
   ]
  },
  {
   "cell_type": "code",
   "execution_count": 19,
   "id": "9f37e164",
   "metadata": {},
   "outputs": [
    {
     "data": {
      "text/plain": [
       "4.336197114605285"
      ]
     },
     "execution_count": 19,
     "metadata": {},
     "output_type": "execute_result"
    }
   ],
   "source": [
    "reviews[\"reviews.rating\"].mean()"
   ]
  },
  {
   "cell_type": "code",
   "execution_count": 20,
   "id": "8be09061",
   "metadata": {},
   "outputs": [],
   "source": [
    "# Define features and target\n",
    "X = df[['verified_purchase', 'review_headline_length', 'review_body_length', 'review_year']]\n",
    "y = df['star_rating']"
   ]
  },
  {
   "cell_type": "code",
   "execution_count": 21,
   "id": "cc19d78c",
   "metadata": {},
   "outputs": [],
   "source": [
    "# Split data into 70% training and 30% testing and validation\n",
    "X_train, X_temp, y_train, y_temp = train_test_split(X, y, test_size=0.3, random_state=42)"
   ]
  },
  {
   "cell_type": "code",
   "execution_count": 22,
   "id": "93e5bb22",
   "metadata": {},
   "outputs": [],
   "source": [
    "# Splitting 50/50 for the temp validation and testing\n",
    "X_val, X_test, y_val, y_test = train_test_split(X_temp, y_temp, test_size=0.5, random_state=42)"
   ]
  },
  {
   "cell_type": "markdown",
   "id": "e81f97d4",
   "metadata": {},
   "source": [
    "### Check the size of each dataset"
   ]
  },
  {
   "cell_type": "code",
   "execution_count": 23,
   "id": "d195df22",
   "metadata": {},
   "outputs": [
    {
     "data": {
      "text/plain": [
       "(21592, 4)"
      ]
     },
     "execution_count": 23,
     "metadata": {},
     "output_type": "execute_result"
    }
   ],
   "source": [
    "X_train.shape"
   ]
  },
  {
   "cell_type": "code",
   "execution_count": 24,
   "id": "a7b3b1d5",
   "metadata": {},
   "outputs": [
    {
     "data": {
      "text/plain": [
       "(4627, 4)"
      ]
     },
     "execution_count": 24,
     "metadata": {},
     "output_type": "execute_result"
    }
   ],
   "source": [
    "X_val.shape"
   ]
  },
  {
   "cell_type": "code",
   "execution_count": 25,
   "id": "c35da51e",
   "metadata": {},
   "outputs": [
    {
     "data": {
      "text/plain": [
       "(4627, 4)"
      ]
     },
     "execution_count": 25,
     "metadata": {},
     "output_type": "execute_result"
    }
   ],
   "source": [
    "X_test.shape"
   ]
  },
  {
   "cell_type": "markdown",
   "id": "ef3b17d9",
   "metadata": {},
   "source": [
    "## Gini impurity index decision tree"
   ]
  },
  {
   "cell_type": "code",
   "execution_count": 26,
   "id": "b07aa170",
   "metadata": {},
   "outputs": [],
   "source": [
    "# Create decision tree model using Gini impurity index\n",
    "dt_gini = DecisionTreeClassifier(criterion='gini',random_state=42) # No limit for tree depth\n",
    "dt_gini.fit(X_train, y_train)\n",
    "gini_train_accuracy = dt_gini.score(X_train, y_train)\n",
    "gini_val_accuracy = dt_gini.score(X_val, y_val)"
   ]
  },
  {
   "cell_type": "code",
   "execution_count": 27,
   "id": "f817eff8",
   "metadata": {},
   "outputs": [
    {
     "data": {
      "text/plain": [
       "0.8879214523897739"
      ]
     },
     "execution_count": 27,
     "metadata": {},
     "output_type": "execute_result"
    }
   ],
   "source": [
    "gini_train_accuracy"
   ]
  },
  {
   "cell_type": "code",
   "execution_count": 28,
   "id": "90ef483c",
   "metadata": {},
   "outputs": [
    {
     "data": {
      "text/plain": [
       "0.5668899935163173"
      ]
     },
     "execution_count": 28,
     "metadata": {},
     "output_type": "execute_result"
    }
   ],
   "source": [
    "gini_val_accuracy"
   ]
  },
  {
   "cell_type": "markdown",
   "id": "e0ca0558",
   "metadata": {},
   "source": [
    "## Entropy decision tree"
   ]
  },
  {
   "cell_type": "code",
   "execution_count": 29,
   "id": "1dff808e",
   "metadata": {},
   "outputs": [],
   "source": [
    "# Create decision tree model using Entropy\n",
    "dt_entropy = DecisionTreeClassifier(criterion='entropy', random_state=42)\n",
    "dt_entropy.fit(X_train, y_train)\n",
    "entropy_train_accuracy = dt_entropy.score(X_train, y_train)\n",
    "entropy_val_accuracy = dt_entropy.score(X_val, y_val)"
   ]
  },
  {
   "cell_type": "code",
   "execution_count": 30,
   "id": "bdd0a0b3",
   "metadata": {},
   "outputs": [
    {
     "data": {
      "text/plain": [
       "0.8879214523897739"
      ]
     },
     "execution_count": 30,
     "metadata": {},
     "output_type": "execute_result"
    }
   ],
   "source": [
    "entropy_train_accuracy"
   ]
  },
  {
   "cell_type": "code",
   "execution_count": 31,
   "id": "d5729634",
   "metadata": {},
   "outputs": [
    {
     "data": {
      "text/plain": [
       "0.5660255024854117"
      ]
     },
     "execution_count": 31,
     "metadata": {},
     "output_type": "execute_result"
    }
   ],
   "source": [
    "entropy_val_accuracy"
   ]
  },
  {
   "cell_type": "markdown",
   "id": "1d716d1c",
   "metadata": {},
   "source": [
    "**On your best decision tree models, use the classification_report and confusion_matrix functions in sklearn to display metrics, using training and validation (but not testing) data. Also use the display¬_tree method in utils.py to display each tree.**"
   ]
  },
  {
   "cell_type": "code",
   "execution_count": 32,
   "id": "b077a401",
   "metadata": {},
   "outputs": [],
   "source": [
    "# My best model is the dt_gini model\n",
    "predictions_gini = dt_gini.predict(X_val)"
   ]
  },
  {
   "cell_type": "code",
   "execution_count": 33,
   "id": "a2584184",
   "metadata": {},
   "outputs": [
    {
     "name": "stdout",
     "output_type": "stream",
     "text": [
      "              precision    recall  f1-score   support\n",
      "\n",
      "           1       0.21      0.23      0.22       241\n",
      "           2       0.11      0.13      0.12       170\n",
      "           3       0.26      0.27      0.26       339\n",
      "           4       0.22      0.15      0.18       844\n",
      "           5       0.72      0.77      0.74      3033\n",
      "\n",
      "    accuracy                           0.57      4627\n",
      "   macro avg       0.30      0.31      0.30      4627\n",
      "weighted avg       0.55      0.57      0.56      4627\n",
      "\n"
     ]
    }
   ],
   "source": [
    "# The classification_report - Gini Decision Tree\n",
    "gini_report = classification_report(y_val, predictions_gini)\n",
    "print(gini_report)"
   ]
  },
  {
   "cell_type": "code",
   "execution_count": 34,
   "id": "254255de",
   "metadata": {},
   "outputs": [],
   "source": [
    "# utils.display_tree(predictions_gini)"
   ]
  },
  {
   "cell_type": "code",
   "execution_count": 35,
   "id": "1e93982f",
   "metadata": {},
   "outputs": [
    {
     "name": "stdout",
     "output_type": "stream",
     "text": [
      "[[  55   19   30   28  109]\n",
      " [  13   22   19   31   85]\n",
      " [  28   28   90   57  136]\n",
      " [  41   34   69  130  570]\n",
      " [ 126  100  143  338 2326]]\n"
     ]
    }
   ],
   "source": [
    "# Gini Decision Tree - Confusion Matrix (Validation Data)\n",
    "gini_con_matrix = confusion_matrix(y_val, predictions_gini)\n",
    "print(gini_con_matrix)"
   ]
  },
  {
   "cell_type": "markdown",
   "id": "6f9fe539",
   "metadata": {},
   "source": [
    "### Select and justify your final choice of hyperparameters based on the training and validation metrics. Provide a written analysis in markdown."
   ]
  },
  {
   "cell_type": "markdown",
   "id": "7c33dee3",
   "metadata": {},
   "source": [
    "#### max_depth=None"
   ]
  },
  {
   "cell_type": "markdown",
   "id": "c0b73cae",
   "metadata": {},
   "source": [
    "I choose to set no limit for the depth of the decision tree, which allows it to capture more features and information about the dataset to get a higher accuracy."
   ]
  },
  {
   "cell_type": "markdown",
   "id": "96f0ee79",
   "metadata": {},
   "source": [
    "#### min_samples_leaf=10"
   ]
  },
  {
   "cell_type": "markdown",
   "id": "dae770cf",
   "metadata": {},
   "source": [
    "A smaller minimum number of leaf help the model to capture noise in training data to help improve accuracy."
   ]
  },
  {
   "cell_type": "code",
   "execution_count": 36,
   "id": "0a9e00d6",
   "metadata": {},
   "outputs": [],
   "source": [
    "# New model with chosen hyperparameters\n",
    "dt_gini_1 = DecisionTreeClassifier(criterion='gini', max_depth=None, min_samples_leaf=10, random_state=42) # No limit for tree depth\n",
    "dt_gini_1.fit(X_train, y_train)\n",
    "gini_train_accuracy_1 = dt_gini_1.score(X_train, y_train)\n",
    "gini_val_accuracy_1 = dt_gini_1.score(X_val, y_val)"
   ]
  },
  {
   "cell_type": "code",
   "execution_count": 37,
   "id": "c0da7937",
   "metadata": {},
   "outputs": [
    {
     "data": {
      "text/plain": [
       "0.69057984438681"
      ]
     },
     "execution_count": 37,
     "metadata": {},
     "output_type": "execute_result"
    }
   ],
   "source": [
    "gini_train_accuracy_1"
   ]
  },
  {
   "cell_type": "code",
   "execution_count": 38,
   "id": "e3ee085d",
   "metadata": {},
   "outputs": [
    {
     "data": {
      "text/plain": [
       "0.633455802896045"
      ]
     },
     "execution_count": 38,
     "metadata": {},
     "output_type": "execute_result"
    }
   ],
   "source": [
    "gini_val_accuracy_1"
   ]
  },
  {
   "cell_type": "markdown",
   "id": "40bc858f",
   "metadata": {},
   "source": [
    "### Split the data into training, validation, and testing sets. （80%/10%/10%）"
   ]
  },
  {
   "cell_type": "code",
   "execution_count": 39,
   "id": "8fbeaf8f",
   "metadata": {},
   "outputs": [],
   "source": [
    "# Define features and target\n",
    "X1 = df[['verified_purchase', 'review_headline_length', 'review_body_length', 'review_year']]\n",
    "y1 = df['star_rating']\n",
    "# Split data into 70% training and 30% testing and validation\n",
    "X_train1, X_temp1, y_train1, y_temp1 = train_test_split(X, y, test_size=0.2, random_state=42)\n",
    "# Splitting 50/50 for the temp validation and testing\n",
    "X_val1, X_test1, y_val1, y_test1 = train_test_split(X_temp, y_temp, test_size=0.5, random_state=42)"
   ]
  },
  {
   "cell_type": "code",
   "execution_count": 40,
   "id": "1e7a0b1b",
   "metadata": {},
   "outputs": [
    {
     "data": {
      "text/plain": [
       "(24676, 4)"
      ]
     },
     "execution_count": 40,
     "metadata": {},
     "output_type": "execute_result"
    }
   ],
   "source": [
    "X_train1.shape"
   ]
  },
  {
   "cell_type": "code",
   "execution_count": 41,
   "id": "27c913e9",
   "metadata": {},
   "outputs": [
    {
     "data": {
      "text/plain": [
       "(4627, 4)"
      ]
     },
     "execution_count": 41,
     "metadata": {},
     "output_type": "execute_result"
    }
   ],
   "source": [
    "X_val1.shape"
   ]
  },
  {
   "cell_type": "code",
   "execution_count": 42,
   "id": "8a96d3bf",
   "metadata": {},
   "outputs": [
    {
     "data": {
      "text/plain": [
       "(4627, 4)"
      ]
     },
     "execution_count": 42,
     "metadata": {},
     "output_type": "execute_result"
    }
   ],
   "source": [
    "X_test1.shape"
   ]
  },
  {
   "cell_type": "markdown",
   "id": "303d1929",
   "metadata": {},
   "source": [
    "### Experiment with different values of the C parameter; try the linear, rbf (with different choices of gamma) and polynomial kernels (with different degrees); try both options for decision_function_shape. Keep your best two models."
   ]
  },
  {
   "cell_type": "code",
   "execution_count": 43,
   "id": "11bc0f1c",
   "metadata": {},
   "outputs": [],
   "source": [
    "subset_size = int(0.1 * len(X_train1))\n",
    "X_train_subset = X_train1[:subset_size]\n",
    "y_train_subset = y_train1[:subset_size]"
   ]
  },
  {
   "cell_type": "code",
   "execution_count": 44,
   "id": "fabc0c06",
   "metadata": {},
   "outputs": [
    {
     "name": "stdout",
     "output_type": "stream",
     "text": [
      "Fitting 3 folds for each of 5 candidates, totalling 15 fits\n"
     ]
    }
   ],
   "source": [
    "# Initialize the classifier\n",
    "svc_1 = SVC(random_state=42)\n",
    "\n",
    "\n",
    "# Configuration of hyperparameters for the first model setup\n",
    "param_grid_1 = {\n",
    "    'C': [0.1, 1],\n",
    "    'kernel': ['linear', 'rbf'],\n",
    "    'gamma': ['scale', 'auto'], \n",
    "    'decision_function_shape': ['ovo', 'ovr']\n",
    "}\n",
    "\n",
    "# Use RandomizedSearchCV\n",
    "random_search_1 = RandomizedSearchCV(\n",
    "    svc_1, param_grid_1, n_iter=5, cv=3, scoring='accuracy', verbose=1,\n",
    "    random_state=42, n_jobs=-1\n",
    ")\n",
    "\n",
    "# Fit the random search model on a subset of data\n",
    "random_search_1.fit(X_train_subset, y_train_subset)\n",
    "best_model_1 = random_search_1.best_estimator_\n",
    "best_score_1 = random_search_1.best_score_"
   ]
  },
  {
   "cell_type": "code",
   "execution_count": 45,
   "id": "b91d3b1c",
   "metadata": {},
   "outputs": [
    {
     "name": "stdout",
     "output_type": "stream",
     "text": [
      "Fitting 3 folds for each of 5 candidates, totalling 15 fits\n"
     ]
    }
   ],
   "source": [
    "# Initialize the classifier\n",
    "svc_2 = SVC(random_state=42)\n",
    "\n",
    "# Configuration of hyperparameters for the second model setup\n",
    "param_grid_2 = {\n",
    "    'C': [0.1,1], \n",
    "    'kernel': ['rbf'],\n",
    "    'gamma': [0.01, 0.1], \n",
    "    'degree': [2, 3],\n",
    "    'decision_function_shape': ['ovo', 'ovr']\n",
    "}\n",
    "\n",
    "# Use RandomizedSearchCV\n",
    "random_search_2 = RandomizedSearchCV(\n",
    "    svc_2, param_grid_2, n_iter=5, cv=3, scoring='accuracy', verbose=1,\n",
    "    random_state=42, n_jobs=-1\n",
    ")\n",
    "\n",
    "# Fit the random search model on a subset of data\n",
    "random_search_2.fit(X_train_subset, y_train_subset)\n",
    "best_model_2 = random_search_2.best_estimator_\n",
    "best_score_2 = random_search_2.best_score_"
   ]
  },
  {
   "cell_type": "code",
   "execution_count": 46,
   "id": "8ccd97c9",
   "metadata": {},
   "outputs": [
    {
     "name": "stdout",
     "output_type": "stream",
     "text": [
      "Best Models:\n",
      "Model: SVC(C=0.1, decision_function_shape='ovo', kernel='linear', random_state=42) Score: 0.6461287852583718\n",
      "Model: SVC(C=0.1, decision_function_shape='ovo', degree=2, gamma=0.01, random_state=42) Score: 0.6461287852583718\n"
     ]
    }
   ],
   "source": [
    "# Store and print the best models and their scores\n",
    "best_models = sorted([(best_model_1, best_score_1), (best_model_2, best_score_2)], key=lambda x: x[1], reverse=True)[:2]\n",
    "print(\"Best Models:\")\n",
    "for model, score in best_models:\n",
    "    print(\"Model:\", model, \"Score:\", score)"
   ]
  },
  {
   "cell_type": "code",
   "execution_count": 47,
   "id": "7f0526e4",
   "metadata": {},
   "outputs": [
    {
     "name": "stdout",
     "output_type": "stream",
     "text": [
      "Evaluating model: SVC(C=0.1, decision_function_shape='ovo', kernel='linear', random_state=42)\n",
      "Validation accuracy: 0.6555003241841366\n",
      "Evaluating model: SVC(C=0.1, decision_function_shape='ovo', degree=2, gamma=0.01, random_state=42)\n",
      "Validation accuracy: 0.6555003241841366\n"
     ]
    }
   ],
   "source": [
    "for model, _ in best_models:\n",
    "    print(\"Evaluating model:\", model)\n",
    "    predictions = model.predict(X_val1)\n",
    "    val_accuracy = accuracy_score(y_val1, predictions)\n",
    "    print(\"Validation accuracy:\", val_accuracy)"
   ]
  },
  {
   "cell_type": "markdown",
   "id": "7de23287",
   "metadata": {},
   "source": [
    "### Use your selected model to make predictions on the test set. Use the classification_report and confusion_matrix functions in sklearn to display metrics for the test data."
   ]
  },
  {
   "cell_type": "markdown",
   "id": "dd475ddb",
   "metadata": {},
   "source": [
    "#### USE GINI Decision Tree to predict:"
   ]
  },
  {
   "cell_type": "code",
   "execution_count": 48,
   "id": "a8912537",
   "metadata": {},
   "outputs": [],
   "source": [
    "# We take line 13 as the prediction value\n",
    "predict_line = df.iloc[13][['verified_purchase', 'review_headline_length', 'review_body_length', 'review_year']]\n",
    "# Convert predict_line to 2D numpy array\n",
    "predict_line = predict_line.values.reshape(1, -1)"
   ]
  },
  {
   "cell_type": "code",
   "execution_count": 49,
   "id": "5067773c",
   "metadata": {},
   "outputs": [
    {
     "name": "stdout",
     "output_type": "stream",
     "text": [
      "The predicted star rating is: 4\n"
     ]
    },
    {
     "name": "stderr",
     "output_type": "stream",
     "text": [
      "/home/hyang4/.local/lib/python3.7/site-packages/sklearn/base.py:451: UserWarning: X does not have valid feature names, but DecisionTreeClassifier was fitted with feature names\n",
      "  \"X does not have valid feature names, but\"\n"
     ]
    }
   ],
   "source": [
    "# Use decision tree model to predict the value\n",
    "predicted_star_rating = dt_gini_1.predict(predict_line)\n",
    "print(\"The predicted star rating is:\", predicted_star_rating[0])"
   ]
  },
  {
   "cell_type": "markdown",
   "id": "035c9a92",
   "metadata": {},
   "source": [
    "#### USE SVC Model 1 to Predict:"
   ]
  },
  {
   "cell_type": "code",
   "execution_count": 50,
   "id": "2328ff1b",
   "metadata": {},
   "outputs": [],
   "source": [
    "# We take line 13 as the prediction value\n",
    "predict_line = df.iloc[13][['verified_purchase', 'review_headline_length', 'review_body_length', 'review_year']]\n",
    "# Convert predict_line to 2D numpy array\n",
    "predict_line = predict_line.values.reshape(1, -1)"
   ]
  },
  {
   "cell_type": "code",
   "execution_count": 51,
   "id": "220fc541",
   "metadata": {},
   "outputs": [
    {
     "name": "stdout",
     "output_type": "stream",
     "text": [
      "The predicted star rating is: 5\n"
     ]
    },
    {
     "name": "stderr",
     "output_type": "stream",
     "text": [
      "/home/hyang4/.local/lib/python3.7/site-packages/sklearn/base.py:451: UserWarning: X does not have valid feature names, but SVC was fitted with feature names\n",
      "  \"X does not have valid feature names, but\"\n"
     ]
    }
   ],
   "source": [
    "# Use SVC Model 1 to predict the value\n",
    "svm_predicted_star_rating = random_search_1.predict(predict_line)\n",
    "print(\"The predicted star rating is:\", svm_predicted_star_rating[0])"
   ]
  },
  {
   "cell_type": "markdown",
   "id": "44b96dff",
   "metadata": {},
   "source": [
    "### SVC Model 1 has the better performance overall, the validation accuracy could reach 65.5%, and the testing accuracy is around 69%. Based on the final prediction result, Model1 got the exactly same result as the star_rating value of line 13 of the original dataset. However, based on the biased of the star_rating distribution, both decision tree and SVC model are biased. Moreover, the running time of model 1 is very long due to its complexity. Therefore, to get quick output, I have to reduce the size of dataset to 10% of the original size, which will lead to lower accuracy as well."
   ]
  }
 ],
 "metadata": {
  "kernelspec": {
   "display_name": "Python 3 (ipykernel)",
   "language": "python",
   "name": "python3"
  },
  "language_info": {
   "codemirror_mode": {
    "name": "ipython",
    "version": 3
   },
   "file_extension": ".py",
   "mimetype": "text/x-python",
   "name": "python",
   "nbconvert_exporter": "python",
   "pygments_lexer": "ipython3",
   "version": "3.7.17"
  }
 },
 "nbformat": 4,
 "nbformat_minor": 5
}
